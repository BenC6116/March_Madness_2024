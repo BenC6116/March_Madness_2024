{
 "cells": [
  {
   "cell_type": "markdown",
   "metadata": {
    "_cell_guid": "b1076dfc-b9ad-4769-8c92-a6c4dae69d19",
    "_uuid": "8f2839f25d086af736a60e9eeb907d3b93b6e0e5",
    "execution": {
     "iopub.execute_input": "2025-03-25T12:18:07.532100Z",
     "iopub.status.busy": "2025-03-25T12:18:07.531802Z",
     "iopub.status.idle": "2025-03-25T12:18:10.350525Z",
     "shell.execute_reply": "2025-03-25T12:18:10.349245Z",
     "shell.execute_reply.started": "2025-03-25T12:18:07.532069Z"
    }
   },
   "source": [
    "# 🏀 Random Forest Model for March Madness Predictions\n",
    "\n",
    "This notebook implements and tunes a Random Forest model for predicting NCAA March Madness tournament outcomes. It includes feature selection, hyperparameter optimization with Optuna, and model evaluation using time-based cross-validation."
   ]
  },
  {
   "cell_type": "markdown",
   "metadata": {},
   "source": [
    "## 1. Setup and Data Preparation"
   ]
  },
  {
   "cell_type": "code",
   "execution_count": 1,
   "metadata": {
    "execution": {
     "iopub.execute_input": "2025-05-04T14:21:17.029315Z",
     "iopub.status.busy": "2025-05-04T14:21:17.028992Z",
     "iopub.status.idle": "2025-05-04T14:21:22.072149Z",
     "shell.execute_reply": "2025-05-04T14:21:22.071064Z",
     "shell.execute_reply.started": "2025-05-04T14:21:17.029285Z"
    },
    "trusted": true
   },
   "outputs": [],
   "source": [
    "# --------------------------------------------- Imports and Configurations ---------------------------------------------\n",
    "import sys\n",
    "import os\n",
    "import numpy as np\n",
    "import pandas as pd\n",
    "import matplotlib.pyplot as plt\n",
    "import seaborn as sns\n",
    "import warnings\n",
    "from pathlib import Path\n",
    "\n",
    "from sklearn.ensemble import RandomForestClassifier\n",
    "from sklearn.preprocessing import StandardScaler\n",
    "from sklearn.metrics import brier_score_loss, log_loss\n",
    "import optuna\n",
    "\n",
    "# Suppress warnings\n",
    "warnings.filterwarnings(\"ignore\")\n",
    "\n",
    "# Enable more readable display for DataFrames\n",
    "pd.set_option('display.max_columns', None)\n",
    "pd.set_option('display.width', 1000)\n",
    "\n",
    "# Adjust path based on environment\n",
    "if os.path.exists('/kaggle/input'):\n",
    "    sys.path.append('/kaggle/input/preprocessing-module')\n",
    "else:\n",
    "    sys.path.append('../../scripts')\n",
    "\n",
    "from pre_processing import build_model_pipeline, rolling_window_cv, generate_matchup_matrix"
   ]
  },
  {
   "cell_type": "markdown",
   "metadata": {},
   "source": [
    "## 2. Load and Explore Dataset"
   ]
  },
  {
   "cell_type": "code",
   "execution_count": 2,
   "metadata": {
    "execution": {
     "iopub.execute_input": "2025-05-04T15:35:54.062413Z",
     "iopub.status.busy": "2025-05-04T15:35:54.062107Z",
     "iopub.status.idle": "2025-05-04T15:36:40.151737Z",
     "shell.execute_reply": "2025-05-04T15:36:40.150711Z",
     "shell.execute_reply.started": "2025-05-04T15:35:54.062394Z"
    },
    "trusted": true
   },
   "outputs": [
    {
     "name": "stdout",
     "output_type": "stream",
     "text": [
      "\n",
      "Random Forest Dataset Summary:\n",
      "X shape: (8068, 10)\n",
      "y shape: (8068,)\n",
      "GameIDs shape: (8068,)\n",
      "\n",
      "Class distribution:\n",
      "Team1Wins\n",
      "1    4034\n",
      "0    4034\n",
      "Name: count, dtype: int64\n",
      "\n",
      "Feature columns:\n",
      "['Season', 'SeedDiff', 'WinPctDiff', 'PointsForDiff', 'PointsAgainstDiff', 'AvgMarginDiff', 'Team1Games', 'Team2Games', 'Last14WinRateDiff', 'NeutralWinRateDiff']\n",
      "\n",
      "Sample features:\n",
      "   Season  SeedDiff  WinPctDiff  PointsForDiff  PointsAgainstDiff  AvgMarginDiff  Team1Games  Team2Games  Last14WinRateDiff  NeutralWinRateDiff\n",
      "0    1985         1   -0.030303             64                258      -6.830303          33          30           0.250000            0.033333\n",
      "1    1985         5   -0.059310            312                300      -0.110345          29          25           0.166667           -0.166667\n",
      "2    1985       -15    0.546616            138               -414      20.114943          27          29           0.200000            0.500000\n",
      "3    1985         1    0.062169             18                -37       2.177249          27          28          -0.166667            0.333333\n",
      "4    1985       -11    0.025926            457                411       1.077778          30          27           0.000000           -0.100000\n"
     ]
    }
   ],
   "source": [
    "# Load dataset using preprocessing pipeline\n",
    "X, y, game_ids = build_model_pipeline(model_type='rf')\n",
    "print(\"\\nRandom Forest Dataset Summary:\")\n",
    "print(f\"X shape: {X.shape}\")\n",
    "print(f\"y shape: {y.shape}\")\n",
    "print(f\"GameIDs shape: {game_ids.shape}\")\n",
    "print(\"\\nClass distribution:\")\n",
    "print(y.value_counts())\n",
    "print(\"\\nFeature columns:\")\n",
    "print(X.columns.tolist())\n",
    "print(\"\\nSample features:\")\n",
    "print(X.head())"
   ]
  },
  {
   "cell_type": "markdown",
   "metadata": {},
   "source": [
    "## 3. Model Definition and Evaluation"
   ]
  },
  {
   "cell_type": "code",
   "execution_count": 3,
   "metadata": {
    "execution": {
     "iopub.execute_input": "2025-05-04T14:22:09.041771Z",
     "iopub.status.busy": "2025-05-04T14:22:09.041468Z",
     "iopub.status.idle": "2025-05-04T14:22:09.048091Z",
     "shell.execute_reply": "2025-05-04T14:22:09.047247Z",
     "shell.execute_reply.started": "2025-05-04T14:22:09.041750Z"
    },
    "trusted": true
   },
   "outputs": [],
   "source": [
    "def rf_model_fn(X_train, y_train, X_test, y_test, test_season, model_params, sample_weight):\n",
    "    \"\"\"Random Forest model function for cross-validation.\n",
    "    \n",
    "    Scales features, trains a Random Forest model with provided parameters,\n",
    "    and returns evaluation metrics.\n",
    "    \"\"\"\n",
    "    # Scale features\n",
    "    scaler = StandardScaler()\n",
    "    X_train_scaled = scaler.fit_transform(X_train)\n",
    "    X_test_scaled = scaler.transform(X_test)\n",
    "    \n",
    "    # Train model\n",
    "    model = RandomForestClassifier(**model_params)\n",
    "    model.fit(X_train_scaled, y_train)\n",
    "    \n",
    "    # Generate predictions and calculate metrics\n",
    "    preds_proba = model.predict_proba(X_test_scaled)[:, 1]\n",
    "    brier_val = brier_score_loss(y_test, preds_proba)\n",
    "    logloss_val = log_loss(y_test, preds_proba)\n",
    "    preds_class = (preds_proba >= 0.5).astype(int)\n",
    "    accuracy_val = (preds_class == y_test).mean()\n",
    "    \n",
    "    return {'brier': brier_val, 'logloss': logloss_val, 'accuracy': accuracy_val}"
   ]
  },
  {
   "cell_type": "code",
   "execution_count": 4,
   "metadata": {
    "execution": {
     "iopub.execute_input": "2025-05-04T14:22:38.327253Z",
     "iopub.status.busy": "2025-05-04T14:22:38.326903Z",
     "iopub.status.idle": "2025-05-04T14:22:38.332165Z",
     "shell.execute_reply": "2025-05-04T14:22:38.331072Z",
     "shell.execute_reply.started": "2025-05-04T14:22:38.327229Z"
    },
    "trusted": true
   },
   "outputs": [],
   "source": [
    "# Extract feature names (excluding Season column)\n",
    "features = [col for col in X.columns if col != 'Season']"
   ]
  },
  {
   "cell_type": "code",
   "execution_count": 5,
   "metadata": {
    "execution": {
     "iopub.execute_input": "2025-05-04T14:22:44.471194Z",
     "iopub.status.busy": "2025-05-04T14:22:44.470871Z",
     "iopub.status.idle": "2025-05-04T14:22:44.477465Z",
     "shell.execute_reply": "2025-05-04T14:22:44.476586Z",
     "shell.execute_reply.started": "2025-05-04T14:22:44.471172Z"
    },
    "trusted": true
   },
   "outputs": [
    {
     "data": {
      "text/plain": [
       "['SeedDiff',\n",
       " 'WinPctDiff',\n",
       " 'PointsForDiff',\n",
       " 'PointsAgainstDiff',\n",
       " 'AvgMarginDiff',\n",
       " 'Team1Games',\n",
       " 'Team2Games',\n",
       " 'Last14WinRateDiff',\n",
       " 'NeutralWinRateDiff']"
      ]
     },
     "execution_count": 5,
     "metadata": {},
     "output_type": "execute_result"
    }
   ],
   "source": [
    "# Display available features\n",
    "features"
   ]
  },
  {
   "cell_type": "code",
   "execution_count": 6,
   "metadata": {
    "execution": {
     "iopub.execute_input": "2025-05-04T14:38:15.009642Z",
     "iopub.status.busy": "2025-05-04T14:38:15.008834Z",
     "iopub.status.idle": "2025-05-04T14:38:15.014605Z",
     "shell.execute_reply": "2025-05-04T14:38:15.013594Z",
     "shell.execute_reply.started": "2025-05-04T14:38:15.009605Z"
    },
    "trusted": true
   },
   "outputs": [],
   "source": [
    "# Initial Random Forest parameters\n",
    "rf_param = dict(\n",
    "    n_estimators=209,\n",
    "    max_depth=8,\n",
    "    min_samples_split=16,\n",
    "    random_state=42,\n",
    "    class_weight='balanced'\n",
    ")"
   ]
  },
  {
   "cell_type": "markdown",
   "metadata": {},
   "source": [
    "## 4. Feature Selection with Forward Selection"
   ]
  },
  {
   "cell_type": "code",
   "execution_count": 7,
   "metadata": {
    "execution": {
     "iopub.execute_input": "2025-05-04T15:17:42.417929Z",
     "iopub.status.busy": "2025-05-04T15:17:42.417557Z",
     "iopub.status.idle": "2025-05-04T15:27:48.051232Z",
     "shell.execute_reply": "2025-05-04T15:27:48.050101Z",
     "shell.execute_reply.started": "2025-05-04T15:17:42.417903Z"
    },
    "trusted": true
   },
   "outputs": [
    {
     "name": "stdout",
     "output_type": "stream",
     "text": [
      "⚙️  Forward selection with multi-step look-ahead\n",
      "Initial feature Brier = 0.179039\n",
      "  ➕ WinPctDiff                → Brier 0.179603\n",
      "  ➕ PointsForDiff             → Brier 0.179004\n",
      "  ➕ PointsAgainstDiff         → Brier 0.180809\n",
      "  ➕ AvgMarginDiff             → Brier 0.175713\n",
      "  ➕ Team1Games                → Brier 0.182039\n",
      "  ➕ Team2Games                → Brier 0.182287\n",
      "  ➕ Last14WinRateDiff         → Brier 0.180066\n",
      "  ➕ NeutralWinRateDiff        → Brier 0.181449\n",
      "✅  Added AvgMarginDiff             → New Brier 0.175713\n",
      "  ➕ WinPctDiff                → Brier 0.173547\n",
      "  ➕ PointsForDiff             → Brier 0.175346\n",
      "  ➕ PointsAgainstDiff         → Brier 0.175033\n",
      "  ➕ Team1Games                → Brier 0.176170\n",
      "  ➕ Team2Games                → Brier 0.176117\n",
      "  ➕ Last14WinRateDiff         → Brier 0.174869\n",
      "  ➕ NeutralWinRateDiff        → Brier 0.175429\n",
      "✅  Added WinPctDiff                → New Brier 0.173547\n",
      "  ➕ PointsForDiff             → Brier 0.173704\n",
      "  ➕ PointsAgainstDiff         → Brier 0.173967\n",
      "  ➕ Team1Games                → Brier 0.173880\n",
      "  ➕ Team2Games                → Brier 0.173466\n",
      "  ➕ Last14WinRateDiff         → Brier 0.173623\n",
      "  ➕ NeutralWinRateDiff        → Brier 0.174206\n",
      "✅  Added Team2Games                → New Brier 0.173466\n",
      "  ➕ PointsForDiff             → Brier 0.173426\n",
      "  ➕ PointsAgainstDiff         → Brier 0.173521\n",
      "  ➕ Team1Games                → Brier 0.172991\n",
      "  ➕ Last14WinRateDiff         → Brier 0.173565\n",
      "  ➕ NeutralWinRateDiff        → Brier 0.174198\n",
      "✅  Added Team1Games                → New Brier 0.172991\n",
      "  ➕ PointsForDiff             → Brier 0.173861\n",
      "  ➕ PointsAgainstDiff         → Brier 0.173710\n",
      "  ➕ Last14WinRateDiff         → Brier 0.173249\n",
      "  ➕ NeutralWinRateDiff        → Brier 0.173988\n",
      "  🔍 Testing pair (Last14WinRateDiff, PointsAgainstDiff) → Brier 0.173436\n",
      "  🔍 Testing pair (Last14WinRateDiff, PointsForDiff) → Brier 0.173763\n",
      "  🔍 Testing pair (Last14WinRateDiff, NeutralWinRateDiff) → Brier 0.173482\n",
      "  🔍 Testing pair (PointsAgainstDiff, PointsForDiff) → Brier 0.174616\n",
      "  🔍 Testing pair (PointsAgainstDiff, NeutralWinRateDiff) → Brier 0.174228\n",
      "  🔍 Testing pair (PointsForDiff, NeutralWinRateDiff) → Brier 0.174036\n",
      "⚗️  Trying to replace last single 'Team1Games' with a better pair...\n",
      "  🔍 Replace-pair (PointsForDiff, PointsAgainstDiff) → Brier 0.174399\n",
      "  🔍 Replace-pair (PointsForDiff, Last14WinRateDiff) → Brier 0.173923\n",
      "  🔍 Replace-pair (PointsForDiff, NeutralWinRateDiff) → Brier 0.174229\n",
      "  🔍 Replace-pair (PointsAgainstDiff, Last14WinRateDiff) → Brier 0.173855\n",
      "  🔍 Replace-pair (PointsAgainstDiff, NeutralWinRateDiff) → Brier 0.174466\n",
      "  🔍 Replace-pair (Last14WinRateDiff, NeutralWinRateDiff) → Brier 0.174160\n",
      "  🔍 Testing best-3 ['Last14WinRateDiff', 'PointsAgainstDiff', 'PointsForDiff'] → Brier 0.174221\n",
      "\n",
      "🏁  Selection complete\n",
      "Final features (5): ['SeedDiff', 'AvgMarginDiff', 'WinPctDiff', 'Team2Games', 'Team1Games']\n",
      "Final CV-Brier: 0.172991\n"
     ]
    }
   ],
   "source": [
    "# -------------------------------------------------------------\n",
    "# Forward feature selection with pair, \"remove-and-pair\", triple look-ahead\n",
    "# -------------------------------------------------------------\n",
    "start_season = 2010\n",
    "tol = 1e-5  # Tolerance for improvement\n",
    "K_PAIRS = 6  # Top-K singles to combine into pairs\n",
    "\n",
    "def evaluate_subset(feats, rf_param, start_season=start_season):\n",
    "    \"\"\"Return mean Brier score for a feature subset via rolling CV.\"\"\"\n",
    "    feats_with_season = ['Season'] + feats if 'Season' not in feats else feats\n",
    "    X_sub = X[feats_with_season].copy()\n",
    "\n",
    "    cv = rolling_window_cv(\n",
    "        X_sub, y, start_season=start_season,\n",
    "        model_fn=rf_model_fn, model_params=rf_param, verbose=False\n",
    "    )\n",
    "    return cv['brier'].mean() if not cv.empty else np.inf\n",
    "\n",
    "print(\"⚙️  Forward selection with multi-step look-ahead\")\n",
    "\n",
    "# Initialize ---------------------------------------------------\n",
    "selected = ['SeedDiff']\n",
    "remaining = [f for f in features if f not in selected]\n",
    "current_brier = evaluate_subset(selected, rf_param)\n",
    "print(f\"Initial feature Brier = {current_brier:.6f}\")\n",
    "\n",
    "last_single_added = None  # Tracks last feature added by Step-1\n",
    "\n",
    "# Main loop ----------------------------------------------------\n",
    "improved = True\n",
    "while remaining and improved:\n",
    "    improved = False\n",
    "\n",
    "    # ---------------------------------------------------------\n",
    "    # 1) SINGLE-FEATURE SCAN\n",
    "    # ---------------------------------------------------------\n",
    "    single_scores = []\n",
    "    for feat in remaining:\n",
    "        b = evaluate_subset(selected + [feat], rf_param)\n",
    "        single_scores.append((feat, b))\n",
    "        print(f\"  ➕ {feat:<25} → Brier {b:.6f}\")\n",
    "\n",
    "    best_feat, best_brier = min(single_scores, key=lambda x: x[1])\n",
    "\n",
    "    if best_brier < current_brier - tol:\n",
    "        selected.append(best_feat)\n",
    "        remaining.remove(best_feat)\n",
    "        current_brier = best_brier\n",
    "        last_single_added = best_feat\n",
    "        improved = True\n",
    "        print(f\"✅  Added {best_feat:<25} → New Brier {current_brier:.6f}\")\n",
    "        continue\n",
    "\n",
    "    # ---------------------------------------------------------\n",
    "    # 2) LOOK-AHEAD WITH SEVERAL 2-FEATURE COMBINATIONS\n",
    "    # ---------------------------------------------------------\n",
    "    single_scores.sort(key=lambda x: x[1])  # Best singles first\n",
    "    top_k = single_scores[:min(K_PAIRS, len(single_scores))]\n",
    "\n",
    "    best_pair = None\n",
    "    best_pair_brier = current_brier\n",
    "    for i in range(len(top_k)):\n",
    "        f1 = top_k[i][0]\n",
    "        for j in range(i + 1, len(top_k)):\n",
    "            f2 = top_k[j][0]\n",
    "            b = evaluate_subset(selected + [f1, f2], rf_param)\n",
    "            print(f\"  🔍 Testing pair ({f1}, {f2}) → Brier {b:.6f}\")\n",
    "            if b < best_pair_brier - tol:\n",
    "                best_pair_brier = b\n",
    "                best_pair = (f1, f2)\n",
    "\n",
    "    if best_pair is not None:\n",
    "        selected.extend(best_pair)\n",
    "        for f in best_pair:\n",
    "            remaining.remove(f)\n",
    "        current_brier = best_pair_brier\n",
    "        last_single_added = None  # We added two at once\n",
    "        improved = True\n",
    "        print(f\"✅  Added pair {best_pair} → New Brier {current_brier:.6f}\")\n",
    "        continue\n",
    "\n",
    "    # ---------------------------------------------------------\n",
    "    # 2.5) \"REMOVE-AND-PAIR\" LOOK-AHEAD\n",
    "    # ---------------------------------------------------------\n",
    "    if last_single_added is not None:\n",
    "        print(f\"⚗️  Trying to replace last single '{last_single_added}' with a better pair...\")\n",
    "        # Create candidate subset WITHOUT that last single\n",
    "        candidate_selected = [f for f in selected if f != last_single_added]\n",
    "        # Candidate remaining list: current remaining + the dropped feature\n",
    "        candidate_remaining = remaining + [last_single_added]\n",
    "\n",
    "        # Recompute single scores for candidate_remaining\n",
    "        cand_single_scores = []\n",
    "        for feat in candidate_remaining:\n",
    "            b = evaluate_subset(candidate_selected + [feat], rf_param)\n",
    "            cand_single_scores.append((feat, b))\n",
    "        cand_single_scores.sort(key=lambda x: x[1])\n",
    "        top_k_cand = cand_single_scores[:min(K_PAIRS, len(cand_single_scores))]\n",
    "\n",
    "        best_pair2 = None\n",
    "        best_pair2_brier = current_brier\n",
    "        for i in range(len(top_k_cand)):\n",
    "            f1 = top_k_cand[i][0]\n",
    "            if f1 == last_single_added:\n",
    "                continue\n",
    "            for j in range(i + 1, len(top_k_cand)):\n",
    "                f2 = top_k_cand[j][0]\n",
    "                if f2 == last_single_added:\n",
    "                    continue\n",
    "                b = evaluate_subset(candidate_selected + [f1, f2], rf_param)\n",
    "                print(f\"  🔍 Replace-pair ({f1}, {f2}) → Brier {b:.6f}\")\n",
    "                if b < best_pair2_brier - tol:\n",
    "                    best_pair2_brier = b\n",
    "                    best_pair2 = (f1, f2)\n",
    "\n",
    "        if best_pair2 is not None:\n",
    "            # Commit the change\n",
    "            selected = candidate_selected + list(best_pair2)\n",
    "            # Rebuild remaining\n",
    "            remaining = [f for f in candidate_remaining if f not in best_pair2]\n",
    "            current_brier = best_pair2_brier\n",
    "            last_single_added = None  # We removed it\n",
    "            improved = True\n",
    "            print(f\"✅  Replaced '{last_single_added}' with pair {best_pair2} \"\n",
    "                  f\"→ New Brier {current_brier:.6f}\")\n",
    "            continue\n",
    "\n",
    "    # ---------------------------------------------------------\n",
    "    # 3) LOOK-AHEAD WITH BEST 3 FEATURES\n",
    "    # ---------------------------------------------------------\n",
    "    if len(single_scores) >= 3:\n",
    "        triple = [single_scores[i][0] for i in range(3)]\n",
    "        triple_brier = evaluate_subset(selected + triple, rf_param)\n",
    "        print(f\"  🔍 Testing best-3 {triple} → Brier {triple_brier:.6f}\")\n",
    "        if triple_brier < current_brier - tol:\n",
    "            selected.extend(triple)\n",
    "            for f in triple:\n",
    "                remaining.remove(f)\n",
    "            current_brier = triple_brier\n",
    "            last_single_added = None  # We added three\n",
    "            improved = True\n",
    "            print(f\"✅  Added triple {tuple(triple)} → New Brier {current_brier:.6f}\")\n",
    "\n",
    "# Summary ------------------------------------------------------\n",
    "print(\"\\n🏁  Selection complete\")\n",
    "print(f\"Final features ({len(selected)}): {selected}\")\n",
    "print(f\"Final CV-Brier: {current_brier:.6f}\")"
   ]
  },
  {
   "cell_type": "code",
   "execution_count": 8,
   "metadata": {
    "execution": {
     "iopub.execute_input": "2025-05-04T15:32:09.656412Z",
     "iopub.status.busy": "2025-05-04T15:32:09.655985Z",
     "iopub.status.idle": "2025-05-04T15:32:28.342712Z",
     "shell.execute_reply": "2025-05-04T15:32:28.341905Z",
     "shell.execute_reply.started": "2025-05-04T15:32:09.656387Z"
    },
    "trusted": true
   },
   "outputs": [
    {
     "data": {
      "text/plain": [
       "np.float64(0.17447778286387264)"
      ]
     },
     "execution_count": 8,
     "metadata": {},
     "output_type": "execute_result"
    }
   ],
   "source": [
    "# Evaluate the Brier score using all features for comparison\n",
    "evaluate_subset(features, rf_param, start_season=start_season)"
   ]
  },
  {
   "cell_type": "code",
   "execution_count": 9,
   "metadata": {
    "execution": {
     "iopub.execute_input": "2025-05-04T15:36:58.266912Z",
     "iopub.status.busy": "2025-05-04T15:36:58.266586Z",
     "iopub.status.idle": "2025-05-04T15:36:58.273750Z",
     "shell.execute_reply": "2025-05-04T15:36:58.272742Z",
     "shell.execute_reply.started": "2025-05-04T15:36:58.266887Z"
    },
    "trusted": true
   },
   "outputs": [
    {
     "data": {
      "text/plain": [
       "['SeedDiff', 'AvgMarginDiff', 'WinPctDiff', 'Team2Games', 'Team1Games']"
      ]
     },
     "execution_count": 9,
     "metadata": {},
     "output_type": "execute_result"
    }
   ],
   "source": [
    "# Display the selected features\n",
    "selected"
   ]
  },
  {
   "cell_type": "code",
   "execution_count": 10,
   "metadata": {
    "execution": {
     "iopub.execute_input": "2025-05-04T15:36:58.890672Z",
     "iopub.status.busy": "2025-05-04T15:36:58.890357Z",
     "iopub.status.idle": "2025-05-04T15:36:58.906118Z",
     "shell.execute_reply": "2025-05-04T15:36:58.905100Z",
     "shell.execute_reply.started": "2025-05-04T15:36:58.890649Z"
    },
    "trusted": true
   },
   "outputs": [
    {
     "data": {
      "text/html": [
       "<div>\n",
       "<style scoped>\n",
       "    .dataframe tbody tr th:only-of-type {\n",
       "        vertical-align: middle;\n",
       "    }\n",
       "\n",
       "    .dataframe tbody tr th {\n",
       "        vertical-align: top;\n",
       "    }\n",
       "\n",
       "    .dataframe thead th {\n",
       "        text-align: right;\n",
       "    }\n",
       "</style>\n",
       "<table border=\"1\" class=\"dataframe\">\n",
       "  <thead>\n",
       "    <tr style=\"text-align: right;\">\n",
       "      <th></th>\n",
       "      <th>Season</th>\n",
       "      <th>SeedDiff</th>\n",
       "      <th>AvgMarginDiff</th>\n",
       "      <th>WinPctDiff</th>\n",
       "      <th>Team2Games</th>\n",
       "      <th>Team1Games</th>\n",
       "    </tr>\n",
       "  </thead>\n",
       "  <tbody>\n",
       "    <tr>\n",
       "      <th>0</th>\n",
       "      <td>1985</td>\n",
       "      <td>1</td>\n",
       "      <td>-6.830303</td>\n",
       "      <td>-0.030303</td>\n",
       "      <td>30</td>\n",
       "      <td>33</td>\n",
       "    </tr>\n",
       "    <tr>\n",
       "      <th>1</th>\n",
       "      <td>1985</td>\n",
       "      <td>5</td>\n",
       "      <td>-0.110345</td>\n",
       "      <td>-0.059310</td>\n",
       "      <td>25</td>\n",
       "      <td>29</td>\n",
       "    </tr>\n",
       "    <tr>\n",
       "      <th>2</th>\n",
       "      <td>1985</td>\n",
       "      <td>-15</td>\n",
       "      <td>20.114943</td>\n",
       "      <td>0.546616</td>\n",
       "      <td>29</td>\n",
       "      <td>27</td>\n",
       "    </tr>\n",
       "    <tr>\n",
       "      <th>3</th>\n",
       "      <td>1985</td>\n",
       "      <td>1</td>\n",
       "      <td>2.177249</td>\n",
       "      <td>0.062169</td>\n",
       "      <td>28</td>\n",
       "      <td>27</td>\n",
       "    </tr>\n",
       "    <tr>\n",
       "      <th>4</th>\n",
       "      <td>1985</td>\n",
       "      <td>-11</td>\n",
       "      <td>1.077778</td>\n",
       "      <td>0.025926</td>\n",
       "      <td>27</td>\n",
       "      <td>30</td>\n",
       "    </tr>\n",
       "    <tr>\n",
       "      <th>...</th>\n",
       "      <td>...</td>\n",
       "      <td>...</td>\n",
       "      <td>...</td>\n",
       "      <td>...</td>\n",
       "      <td>...</td>\n",
       "      <td>...</td>\n",
       "    </tr>\n",
       "    <tr>\n",
       "      <th>8063</th>\n",
       "      <td>2023</td>\n",
       "      <td>1</td>\n",
       "      <td>-20.246976</td>\n",
       "      <td>-0.193548</td>\n",
       "      <td>32</td>\n",
       "      <td>31</td>\n",
       "    </tr>\n",
       "    <tr>\n",
       "      <th>8064</th>\n",
       "      <td>2023</td>\n",
       "      <td>2</td>\n",
       "      <td>-2.951613</td>\n",
       "      <td>-0.089718</td>\n",
       "      <td>31</td>\n",
       "      <td>32</td>\n",
       "    </tr>\n",
       "    <tr>\n",
       "      <th>8065</th>\n",
       "      <td>2023</td>\n",
       "      <td>-1</td>\n",
       "      <td>14.156250</td>\n",
       "      <td>0.187500</td>\n",
       "      <td>32</td>\n",
       "      <td>32</td>\n",
       "    </tr>\n",
       "    <tr>\n",
       "      <th>8066</th>\n",
       "      <td>2023</td>\n",
       "      <td>-2</td>\n",
       "      <td>-10.915054</td>\n",
       "      <td>-0.062366</td>\n",
       "      <td>30</td>\n",
       "      <td>31</td>\n",
       "    </tr>\n",
       "    <tr>\n",
       "      <th>8067</th>\n",
       "      <td>2023</td>\n",
       "      <td>-1</td>\n",
       "      <td>-10.179167</td>\n",
       "      <td>-0.120833</td>\n",
       "      <td>30</td>\n",
       "      <td>32</td>\n",
       "    </tr>\n",
       "  </tbody>\n",
       "</table>\n",
       "<p>8068 rows × 6 columns</p>\n",
       "</div>"
      ],
      "text/plain": [
       "      Season  SeedDiff  AvgMarginDiff  WinPctDiff  Team2Games  Team1Games\n",
       "0       1985         1      -6.830303   -0.030303          30          33\n",
       "1       1985         5      -0.110345   -0.059310          25          29\n",
       "2       1985       -15      20.114943    0.546616          29          27\n",
       "3       1985         1       2.177249    0.062169          28          27\n",
       "4       1985       -11       1.077778    0.025926          27          30\n",
       "...      ...       ...            ...         ...         ...         ...\n",
       "8063    2023         1     -20.246976   -0.193548          32          31\n",
       "8064    2023         2      -2.951613   -0.089718          31          32\n",
       "8065    2023        -1      14.156250    0.187500          32          32\n",
       "8066    2023        -2     -10.915054   -0.062366          30          31\n",
       "8067    2023        -1     -10.179167   -0.120833          30          32\n",
       "\n",
       "[8068 rows x 6 columns]"
      ]
     },
     "execution_count": 10,
     "metadata": {},
     "output_type": "execute_result"
    }
   ],
   "source": [
    "# Update dataset to include only selected features plus Season\n",
    "feats_with_season = ['Season'] + selected if 'Season' not in selected else selected\n",
    "X = X[feats_with_season]\n",
    "X"
   ]
  },
  {
   "cell_type": "markdown",
   "metadata": {},
   "source": [
    "## 5. Hyperparameter Tuning with Optuna"
   ]
  },
  {
   "cell_type": "code",
   "execution_count": 11,
   "metadata": {
    "execution": {
     "iopub.execute_input": "2025-05-04T15:38:39.579348Z",
     "iopub.status.busy": "2025-05-04T15:38:39.578887Z",
     "iopub.status.idle": "2025-05-04T15:48:27.911706Z",
     "shell.execute_reply": "2025-05-04T15:48:27.910500Z",
     "shell.execute_reply.started": "2025-05-04T15:38:39.579322Z"
    },
    "trusted": true
   },
   "outputs": [
    {
     "name": "stderr",
     "output_type": "stream",
     "text": [
      "[I 2025-05-06 14:15:05,375] A new study created in memory with name: no-name-50cc67f3-dd66-419e-8d3a-1ebe6e886986\n"
     ]
    },
    {
     "name": "stdout",
     "output_type": "stream",
     "text": [
      "\n",
      "Tuning for window_size = 10\n"
     ]
    },
    {
     "name": "stderr",
     "output_type": "stream",
     "text": [
      "[I 2025-05-06 14:15:07,571] Trial 0 finished with value: 0.17885201921466795 and parameters: {'n_estimators': 69, 'max_depth': 19, 'min_samples_split': 14}. Best is trial 0 with value: 0.17885201921466795.\n",
      "[I 2025-05-06 14:15:09,999] Trial 1 finished with value: 0.1779213843781777 and parameters: {'n_estimators': 81, 'max_depth': 10, 'min_samples_split': 7}. Best is trial 1 with value: 0.1779213843781777.\n",
      "[I 2025-05-06 14:15:11,244] Trial 2 finished with value: 0.17539443474224514 and parameters: {'n_estimators': 58, 'max_depth': 5, 'min_samples_split': 7}. Best is trial 2 with value: 0.17539443474224514.\n",
      "[I 2025-05-06 14:15:18,252] Trial 3 finished with value: 0.17607950120786825 and parameters: {'n_estimators': 260, 'max_depth': 9, 'min_samples_split': 10}. Best is trial 2 with value: 0.17539443474224514.\n",
      "[I 2025-05-06 14:15:20,276] Trial 4 finished with value: 0.18235542681945013 and parameters: {'n_estimators': 60, 'max_depth': 18, 'min_samples_split': 6}. Best is trial 2 with value: 0.17539443474224514.\n",
      "[I 2025-05-06 14:15:23,766] Trial 5 finished with value: 0.18262438395173386 and parameters: {'n_estimators': 93, 'max_depth': 14, 'min_samples_split': 3}. Best is trial 2 with value: 0.17539443474224514.\n",
      "[I 2025-05-06 14:15:26,379] Trial 6 finished with value: 0.17941837787966772 and parameters: {'n_estimators': 76, 'max_depth': 15, 'min_samples_split': 10}. Best is trial 2 with value: 0.17539443474224514.\n",
      "[I 2025-05-06 14:15:30,698] Trial 7 finished with value: 0.17746355953691512 and parameters: {'n_estimators': 146, 'max_depth': 9, 'min_samples_split': 2}. Best is trial 2 with value: 0.17539443474224514.\n",
      "[I 2025-05-06 14:15:37,347] Trial 8 finished with value: 0.17457433950938442 and parameters: {'n_estimators': 293, 'max_depth': 6, 'min_samples_split': 9}. Best is trial 8 with value: 0.17457433950938442.\n",
      "[I 2025-05-06 14:15:42,944] Trial 9 finished with value: 0.1768946004039917 and parameters: {'n_estimators': 195, 'max_depth': 14, 'min_samples_split': 19}. Best is trial 8 with value: 0.17457433950938442.\n",
      "[I 2025-05-06 14:15:48,852] Trial 10 finished with value: 0.17532822803580417 and parameters: {'n_estimators': 300, 'max_depth': 5, 'min_samples_split': 17}. Best is trial 8 with value: 0.17457433950938442.\n",
      "[I 2025-05-06 14:15:56,155] Trial 11 finished with value: 0.1753529674317738 and parameters: {'n_estimators': 298, 'max_depth': 5, 'min_samples_split': 16}. Best is trial 8 with value: 0.17457433950938442.\n",
      "[I 2025-05-06 14:16:02,736] Trial 12 finished with value: 0.174559360647659 and parameters: {'n_estimators': 251, 'max_depth': 7, 'min_samples_split': 20}. Best is trial 12 with value: 0.174559360647659.\n",
      "[I 2025-05-06 14:16:08,774] Trial 13 finished with value: 0.17544164732944448 and parameters: {'n_estimators': 234, 'max_depth': 8, 'min_samples_split': 13}. Best is trial 12 with value: 0.174559360647659.\n",
      "[I 2025-05-06 14:16:14,707] Trial 14 finished with value: 0.1747624574553405 and parameters: {'n_estimators': 250, 'max_depth': 7, 'min_samples_split': 19}. Best is trial 12 with value: 0.174559360647659.\n",
      "[I 2025-05-06 14:16:21,067] Trial 15 finished with value: 0.17736322567789023 and parameters: {'n_estimators': 205, 'max_depth': 11, 'min_samples_split': 12}. Best is trial 12 with value: 0.174559360647659.\n",
      "[I 2025-05-06 14:16:25,368] Trial 16 finished with value: 0.17553130682096996 and parameters: {'n_estimators': 150, 'max_depth': 7, 'min_samples_split': 9}. Best is trial 12 with value: 0.174559360647659.\n",
      "[I 2025-05-06 14:16:34,744] Trial 17 finished with value: 0.17675248972602467 and parameters: {'n_estimators': 275, 'max_depth': 12, 'min_samples_split': 16}. Best is trial 12 with value: 0.174559360647659.\n",
      "[I 2025-05-06 14:16:39,766] Trial 18 finished with value: 0.17492801809387754 and parameters: {'n_estimators': 220, 'max_depth': 6, 'min_samples_split': 5}. Best is trial 12 with value: 0.174559360647659.\n",
      "[I 2025-05-06 14:16:47,962] Trial 19 finished with value: 0.1770707713587686 and parameters: {'n_estimators': 272, 'max_depth': 16, 'min_samples_split': 20}. Best is trial 12 with value: 0.174559360647659.\n",
      "[I 2025-05-06 14:16:47,963] A new study created in memory with name: no-name-4da25956-f999-4750-a608-9cdea260ac44\n"
     ]
    },
    {
     "name": "stdout",
     "output_type": "stream",
     "text": [
      "Best hyperparameters for window_size=10: {'n_estimators': 251, 'max_depth': 7, 'min_samples_split': 20}, with avg Brier = 0.1746\n",
      "\n",
      "Tuning for window_size = 15\n"
     ]
    },
    {
     "name": "stderr",
     "output_type": "stream",
     "text": [
      "[I 2025-05-06 14:16:59,790] Trial 0 finished with value: 0.17740846114303785 and parameters: {'n_estimators': 238, 'max_depth': 12, 'min_samples_split': 2}. Best is trial 0 with value: 0.17740846114303785.\n",
      "[I 2025-05-06 14:17:08,992] Trial 1 finished with value: 0.17651776569014604 and parameters: {'n_estimators': 197, 'max_depth': 19, 'min_samples_split': 16}. Best is trial 1 with value: 0.17651776569014604.\n",
      "[I 2025-05-06 14:17:12,907] Trial 2 finished with value: 0.17394772231509764 and parameters: {'n_estimators': 117, 'max_depth': 7, 'min_samples_split': 8}. Best is trial 2 with value: 0.17394772231509764.\n",
      "[I 2025-05-06 14:17:24,002] Trial 3 finished with value: 0.17364825338108256 and parameters: {'n_estimators': 294, 'max_depth': 8, 'min_samples_split': 14}. Best is trial 3 with value: 0.17364825338108256.\n",
      "[I 2025-05-06 14:17:30,837] Trial 4 finished with value: 0.17432913932598929 and parameters: {'n_estimators': 209, 'max_depth': 6, 'min_samples_split': 15}. Best is trial 3 with value: 0.17364825338108256.\n",
      "[I 2025-05-06 14:17:40,174] Trial 5 finished with value: 0.17723269496726854 and parameters: {'n_estimators': 201, 'max_depth': 13, 'min_samples_split': 3}. Best is trial 3 with value: 0.17364825338108256.\n",
      "[I 2025-05-06 14:17:49,962] Trial 6 finished with value: 0.17672520615074422 and parameters: {'n_estimators': 235, 'max_depth': 11, 'min_samples_split': 3}. Best is trial 3 with value: 0.17364825338108256.\n",
      "[I 2025-05-06 14:18:02,812] Trial 7 finished with value: 0.17453658105271336 and parameters: {'n_estimators': 299, 'max_depth': 11, 'min_samples_split': 13}. Best is trial 3 with value: 0.17364825338108256.\n",
      "[I 2025-05-06 14:18:12,942] Trial 8 finished with value: 0.17701278399016665 and parameters: {'n_estimators': 231, 'max_depth': 18, 'min_samples_split': 13}. Best is trial 3 with value: 0.17364825338108256.\n",
      "[I 2025-05-06 14:18:26,394] Trial 9 finished with value: 0.17820838544174805 and parameters: {'n_estimators': 278, 'max_depth': 13, 'min_samples_split': 2}. Best is trial 3 with value: 0.17364825338108256.\n",
      "[I 2025-05-06 14:18:28,304] Trial 10 finished with value: 0.17380933689925884 and parameters: {'n_estimators': 52, 'max_depth': 8, 'min_samples_split': 20}. Best is trial 3 with value: 0.17364825338108256.\n",
      "[I 2025-05-06 14:18:30,367] Trial 11 finished with value: 0.1734838239353439 and parameters: {'n_estimators': 60, 'max_depth': 8, 'min_samples_split': 20}. Best is trial 11 with value: 0.1734838239353439.\n",
      "[I 2025-05-06 14:18:35,230] Trial 12 finished with value: 0.17407576121216942 and parameters: {'n_estimators': 137, 'max_depth': 9, 'min_samples_split': 20}. Best is trial 11 with value: 0.1734838239353439.\n",
      "[I 2025-05-06 14:18:37,931] Trial 13 finished with value: 0.1761484326320523 and parameters: {'n_estimators': 64, 'max_depth': 15, 'min_samples_split': 17}. Best is trial 11 with value: 0.1734838239353439.\n",
      "[I 2025-05-06 14:18:41,553] Trial 14 finished with value: 0.17480554022848097 and parameters: {'n_estimators': 141, 'max_depth': 5, 'min_samples_split': 9}. Best is trial 11 with value: 0.1734838239353439.\n",
      "[I 2025-05-06 14:18:45,653] Trial 15 finished with value: 0.17427659301328485 and parameters: {'n_estimators': 105, 'max_depth': 9, 'min_samples_split': 18}. Best is trial 11 with value: 0.1734838239353439.\n",
      "[I 2025-05-06 14:18:50,452] Trial 16 finished with value: 0.17486233406942625 and parameters: {'n_estimators': 160, 'max_depth': 5, 'min_samples_split': 11}. Best is trial 11 with value: 0.1734838239353439.\n",
      "[I 2025-05-06 14:18:55,909] Trial 17 finished with value: 0.17954610741563756 and parameters: {'n_estimators': 91, 'max_depth': 16, 'min_samples_split': 6}. Best is trial 11 with value: 0.1734838239353439.\n",
      "[I 2025-05-06 14:19:05,559] Trial 18 finished with value: 0.17427034189372287 and parameters: {'n_estimators': 264, 'max_depth': 9, 'min_samples_split': 13}. Best is trial 11 with value: 0.1734838239353439.\n",
      "[I 2025-05-06 14:19:10,824] Trial 19 finished with value: 0.17397537501789168 and parameters: {'n_estimators': 167, 'max_depth': 7, 'min_samples_split': 18}. Best is trial 11 with value: 0.1734838239353439.\n",
      "[I 2025-05-06 14:19:10,826] A new study created in memory with name: no-name-1e36b779-6da7-42c0-b8e0-0f098537f3c9\n"
     ]
    },
    {
     "name": "stdout",
     "output_type": "stream",
     "text": [
      "Best hyperparameters for window_size=15: {'n_estimators': 60, 'max_depth': 8, 'min_samples_split': 20}, with avg Brier = 0.1735\n",
      "\n",
      "Tuning for window_size = 20\n"
     ]
    },
    {
     "name": "stderr",
     "output_type": "stream",
     "text": [
      "[I 2025-05-06 14:19:29,172] Trial 0 finished with value: 0.1794160483058101 and parameters: {'n_estimators': 298, 'max_depth': 15, 'min_samples_split': 4}. Best is trial 0 with value: 0.1794160483058101.\n",
      "[I 2025-05-06 14:19:39,019] Trial 1 finished with value: 0.1738758718111077 and parameters: {'n_estimators': 242, 'max_depth': 8, 'min_samples_split': 14}. Best is trial 1 with value: 0.1738758718111077.\n",
      "[I 2025-05-06 14:19:42,174] Trial 2 finished with value: 0.17556636638520423 and parameters: {'n_estimators': 100, 'max_depth': 5, 'min_samples_split': 17}. Best is trial 1 with value: 0.1738758718111077.\n",
      "[I 2025-05-06 14:19:51,368] Trial 3 finished with value: 0.17972796503679128 and parameters: {'n_estimators': 143, 'max_depth': 14, 'min_samples_split': 3}. Best is trial 1 with value: 0.1738758718111077.\n",
      "[I 2025-05-06 14:20:01,449] Trial 4 finished with value: 0.17415810304495644 and parameters: {'n_estimators': 260, 'max_depth': 6, 'min_samples_split': 7}. Best is trial 1 with value: 0.1738758718111077.\n",
      "[I 2025-05-06 14:20:12,636] Trial 5 finished with value: 0.1784316863183939 and parameters: {'n_estimators': 187, 'max_depth': 19, 'min_samples_split': 9}. Best is trial 1 with value: 0.1738758718111077.\n",
      "[I 2025-05-06 14:20:29,396] Trial 6 finished with value: 0.17608857373342388 and parameters: {'n_estimators': 271, 'max_depth': 18, 'min_samples_split': 18}. Best is trial 1 with value: 0.1738758718111077.\n",
      "[I 2025-05-06 14:20:38,091] Trial 7 finished with value: 0.1788959495312458 and parameters: {'n_estimators': 146, 'max_depth': 13, 'min_samples_split': 3}. Best is trial 1 with value: 0.1738758718111077.\n",
      "[I 2025-05-06 14:20:41,780] Trial 8 finished with value: 0.18203485933811367 and parameters: {'n_estimators': 62, 'max_depth': 18, 'min_samples_split': 4}. Best is trial 1 with value: 0.1738758718111077.\n",
      "[I 2025-05-06 14:20:51,997] Trial 9 finished with value: 0.17413711309323152 and parameters: {'n_estimators': 194, 'max_depth': 9, 'min_samples_split': 11}. Best is trial 1 with value: 0.1738758718111077.\n",
      "[I 2025-05-06 14:21:03,698] Trial 10 finished with value: 0.17428853796635016 and parameters: {'n_estimators': 220, 'max_depth': 9, 'min_samples_split': 14}. Best is trial 1 with value: 0.1738758718111077.\n",
      "[I 2025-05-06 14:21:14,188] Trial 11 finished with value: 0.17462602082336368 and parameters: {'n_estimators': 217, 'max_depth': 9, 'min_samples_split': 13}. Best is trial 1 with value: 0.1738758718111077.\n",
      "[I 2025-05-06 14:21:25,081] Trial 12 finished with value: 0.17463155896092925 and parameters: {'n_estimators': 227, 'max_depth': 9, 'min_samples_split': 12}. Best is trial 1 with value: 0.1738758718111077.\n",
      "[I 2025-05-06 14:21:34,223] Trial 13 finished with value: 0.17525862951116442 and parameters: {'n_estimators': 175, 'max_depth': 11, 'min_samples_split': 15}. Best is trial 1 with value: 0.1738758718111077.\n",
      "[I 2025-05-06 14:21:44,802] Trial 14 finished with value: 0.17354202893136855 and parameters: {'n_estimators': 251, 'max_depth': 7, 'min_samples_split': 10}. Best is trial 14 with value: 0.17354202893136855.\n",
      "[I 2025-05-06 14:21:55,010] Trial 15 finished with value: 0.17370605296045608 and parameters: {'n_estimators': 253, 'max_depth': 7, 'min_samples_split': 8}. Best is trial 14 with value: 0.17354202893136855.\n",
      "[I 2025-05-06 14:22:07,625] Trial 16 finished with value: 0.17370754873037494 and parameters: {'n_estimators': 294, 'max_depth': 7, 'min_samples_split': 8}. Best is trial 14 with value: 0.17354202893136855.\n",
      "[I 2025-05-06 14:22:21,349] Trial 17 finished with value: 0.17536358524233858 and parameters: {'n_estimators': 261, 'max_depth': 11, 'min_samples_split': 7}. Best is trial 14 with value: 0.17354202893136855.\n",
      "[I 2025-05-06 14:22:30,400] Trial 18 finished with value: 0.17502268163622703 and parameters: {'n_estimators': 274, 'max_depth': 5, 'min_samples_split': 10}. Best is trial 14 with value: 0.17354202893136855.\n",
      "[I 2025-05-06 14:22:43,499] Trial 19 finished with value: 0.1759314221073199 and parameters: {'n_estimators': 242, 'max_depth': 11, 'min_samples_split': 6}. Best is trial 14 with value: 0.17354202893136855.\n",
      "[I 2025-05-06 14:22:43,500] A new study created in memory with name: no-name-b96aa457-e824-4828-a05b-a0c957b18f5e\n"
     ]
    },
    {
     "name": "stdout",
     "output_type": "stream",
     "text": [
      "Best hyperparameters for window_size=20: {'n_estimators': 251, 'max_depth': 7, 'min_samples_split': 10}, with avg Brier = 0.1735\n",
      "\n",
      "Tuning for window_size = 25\n"
     ]
    },
    {
     "name": "stderr",
     "output_type": "stream",
     "text": [
      "[I 2025-05-06 14:22:50,639] Trial 0 finished with value: 0.17464271376435533 and parameters: {'n_estimators': 143, 'max_depth': 9, 'min_samples_split': 10}. Best is trial 0 with value: 0.17464271376435533.\n",
      "[I 2025-05-06 14:23:04,101] Trial 1 finished with value: 0.17822146310844608 and parameters: {'n_estimators': 192, 'max_depth': 16, 'min_samples_split': 12}. Best is trial 0 with value: 0.17464271376435533.\n",
      "[I 2025-05-06 14:23:17,928] Trial 2 finished with value: 0.17478117611176633 and parameters: {'n_estimators': 264, 'max_depth': 9, 'min_samples_split': 4}. Best is trial 0 with value: 0.17464271376435533.\n",
      "[I 2025-05-06 14:23:32,117] Trial 3 finished with value: 0.1773293994311234 and parameters: {'n_estimators': 230, 'max_depth': 19, 'min_samples_split': 15}. Best is trial 0 with value: 0.17464271376435533.\n",
      "[I 2025-05-06 14:23:43,564] Trial 4 finished with value: 0.17494594510364836 and parameters: {'n_estimators': 203, 'max_depth': 10, 'min_samples_split': 19}. Best is trial 0 with value: 0.17464271376435533.\n",
      "[I 2025-05-06 14:24:01,696] Trial 5 finished with value: 0.17784610310927146 and parameters: {'n_estimators': 258, 'max_depth': 16, 'min_samples_split': 10}. Best is trial 0 with value: 0.17464271376435533.\n",
      "[I 2025-05-06 14:24:09,511] Trial 6 finished with value: 0.17512708543404532 and parameters: {'n_estimators': 141, 'max_depth': 11, 'min_samples_split': 17}. Best is trial 0 with value: 0.17464271376435533.\n",
      "[I 2025-05-06 14:24:26,295] Trial 7 finished with value: 0.17673539124214524 and parameters: {'n_estimators': 277, 'max_depth': 15, 'min_samples_split': 16}. Best is trial 0 with value: 0.17464271376435533.\n",
      "[I 2025-05-06 14:24:28,819] Trial 8 finished with value: 0.17557306361068087 and parameters: {'n_estimators': 71, 'max_depth': 5, 'min_samples_split': 9}. Best is trial 0 with value: 0.17464271376435533.\n",
      "[I 2025-05-06 14:24:34,114] Trial 9 finished with value: 0.17435644156527305 and parameters: {'n_estimators': 102, 'max_depth': 9, 'min_samples_split': 9}. Best is trial 9 with value: 0.17435644156527305.\n",
      "[I 2025-05-06 14:24:36,325] Trial 10 finished with value: 0.17449343663893427 and parameters: {'n_estimators': 56, 'max_depth': 6, 'min_samples_split': 2}. Best is trial 9 with value: 0.17435644156527305.\n",
      "[I 2025-05-06 14:24:38,245] Trial 11 finished with value: 0.1756104962384915 and parameters: {'n_estimators': 54, 'max_depth': 5, 'min_samples_split': 2}. Best is trial 9 with value: 0.17435644156527305.\n",
      "[I 2025-05-06 14:24:42,527] Trial 12 finished with value: 0.17397035218992263 and parameters: {'n_estimators': 98, 'max_depth': 7, 'min_samples_split': 6}. Best is trial 12 with value: 0.17397035218992263.\n",
      "[I 2025-05-06 14:24:47,736] Trial 13 finished with value: 0.1743614607074901 and parameters: {'n_estimators': 103, 'max_depth': 8, 'min_samples_split': 7}. Best is trial 12 with value: 0.17397035218992263.\n",
      "[I 2025-05-06 14:24:55,292] Trial 14 finished with value: 0.17849530603640767 and parameters: {'n_estimators': 109, 'max_depth': 13, 'min_samples_split': 6}. Best is trial 12 with value: 0.17397035218992263.\n",
      "[I 2025-05-06 14:25:00,113] Trial 15 finished with value: 0.173898879125769 and parameters: {'n_estimators': 103, 'max_depth': 7, 'min_samples_split': 7}. Best is trial 15 with value: 0.173898879125769.\n",
      "[I 2025-05-06 14:25:06,466] Trial 16 finished with value: 0.17360962484931958 and parameters: {'n_estimators': 148, 'max_depth': 7, 'min_samples_split': 6}. Best is trial 16 with value: 0.17360962484931958.\n",
      "[I 2025-05-06 14:25:15,559] Trial 17 finished with value: 0.17614533284447775 and parameters: {'n_estimators': 154, 'max_depth': 12, 'min_samples_split': 13}. Best is trial 16 with value: 0.17360962484931958.\n",
      "[I 2025-05-06 14:25:23,786] Trial 18 finished with value: 0.173981326116679 and parameters: {'n_estimators': 173, 'max_depth': 7, 'min_samples_split': 4}. Best is trial 16 with value: 0.17360962484931958.\n",
      "[I 2025-05-06 14:25:33,401] Trial 19 finished with value: 0.18013736746604708 and parameters: {'n_estimators': 135, 'max_depth': 20, 'min_samples_split': 7}. Best is trial 16 with value: 0.17360962484931958.\n",
      "[I 2025-05-06 14:25:33,402] A new study created in memory with name: no-name-71629647-a99d-4574-9c20-8829000cbf6a\n"
     ]
    },
    {
     "name": "stdout",
     "output_type": "stream",
     "text": [
      "Best hyperparameters for window_size=25: {'n_estimators': 148, 'max_depth': 7, 'min_samples_split': 6}, with avg Brier = 0.1736\n",
      "\n",
      "Tuning for window_size = 30\n"
     ]
    },
    {
     "name": "stderr",
     "output_type": "stream",
     "text": [
      "[I 2025-05-06 14:25:36,481] Trial 0 finished with value: 0.1750715701714844 and parameters: {'n_estimators': 54, 'max_depth': 10, 'min_samples_split': 17}. Best is trial 0 with value: 0.1750715701714844.\n",
      "[I 2025-05-06 14:25:43,072] Trial 1 finished with value: 0.1770491941391848 and parameters: {'n_estimators': 100, 'max_depth': 13, 'min_samples_split': 8}. Best is trial 0 with value: 0.1750715701714844.\n",
      "[I 2025-05-06 14:25:46,258] Trial 2 finished with value: 0.17426295234358277 and parameters: {'n_estimators': 56, 'max_depth': 8, 'min_samples_split': 11}. Best is trial 2 with value: 0.17426295234358277.\n",
      "[I 2025-05-06 14:26:02,000] Trial 3 finished with value: 0.17353054375128898 and parameters: {'n_estimators': 268, 'max_depth': 9, 'min_samples_split': 20}. Best is trial 3 with value: 0.17353054375128898.\n",
      "[I 2025-05-06 14:26:19,723] Trial 4 finished with value: 0.17797294053868445 and parameters: {'n_estimators': 240, 'max_depth': 19, 'min_samples_split': 11}. Best is trial 3 with value: 0.17353054375128898.\n",
      "[I 2025-05-06 14:26:34,302] Trial 5 finished with value: 0.1735519907802195 and parameters: {'n_estimators': 286, 'max_depth': 8, 'min_samples_split': 5}. Best is trial 3 with value: 0.17353054375128898.\n",
      "[I 2025-05-06 14:26:40,941] Trial 6 finished with value: 0.17335812221368235 and parameters: {'n_estimators': 146, 'max_depth': 7, 'min_samples_split': 18}. Best is trial 6 with value: 0.17335812221368235.\n",
      "[I 2025-05-06 14:26:47,349] Trial 7 finished with value: 0.1785602734048614 and parameters: {'n_estimators': 89, 'max_depth': 17, 'min_samples_split': 13}. Best is trial 6 with value: 0.17335812221368235.\n",
      "[I 2025-05-06 14:27:08,211] Trial 8 finished with value: 0.18192301872828193 and parameters: {'n_estimators': 255, 'max_depth': 20, 'min_samples_split': 4}. Best is trial 6 with value: 0.17335812221368235.\n",
      "[I 2025-05-06 14:27:25,126] Trial 9 finished with value: 0.18053297829449572 and parameters: {'n_estimators': 224, 'max_depth': 19, 'min_samples_split': 5}. Best is trial 6 with value: 0.17335812221368235.\n",
      "[I 2025-05-06 14:27:31,490] Trial 10 finished with value: 0.17465473839565232 and parameters: {'n_estimators': 165, 'max_depth': 5, 'min_samples_split': 16}. Best is trial 6 with value: 0.17335812221368235.\n",
      "[I 2025-05-06 14:27:37,624] Trial 11 finished with value: 0.17476838686649293 and parameters: {'n_estimators': 167, 'max_depth': 5, 'min_samples_split': 20}. Best is trial 6 with value: 0.17335812221368235.\n",
      "[I 2025-05-06 14:27:50,084] Trial 12 finished with value: 0.17471651174970956 and parameters: {'n_estimators': 201, 'max_depth': 12, 'min_samples_split': 20}. Best is trial 6 with value: 0.17335812221368235.\n",
      "[I 2025-05-06 14:27:56,912] Trial 13 finished with value: 0.17357953507666965 and parameters: {'n_estimators': 133, 'max_depth': 8, 'min_samples_split': 17}. Best is trial 6 with value: 0.17335812221368235.\n",
      "[I 2025-05-06 14:28:14,673] Trial 14 finished with value: 0.17457019053451725 and parameters: {'n_estimators': 278, 'max_depth': 11, 'min_samples_split': 14}. Best is trial 6 with value: 0.17335812221368235.\n",
      "[I 2025-05-06 14:28:28,366] Trial 15 finished with value: 0.17538627348947514 and parameters: {'n_estimators': 200, 'max_depth': 14, 'min_samples_split': 20}. Best is trial 6 with value: 0.17335812221368235.\n",
      "[I 2025-05-06 14:28:35,176] Trial 16 finished with value: 0.17339472326261368 and parameters: {'n_estimators': 138, 'max_depth': 7, 'min_samples_split': 18}. Best is trial 6 with value: 0.17335812221368235.\n",
      "[I 2025-05-06 14:28:40,674] Trial 17 finished with value: 0.17367033179102434 and parameters: {'n_estimators': 124, 'max_depth': 6, 'min_samples_split': 15}. Best is trial 6 with value: 0.17335812221368235.\n",
      "[I 2025-05-06 14:28:50,457] Trial 18 finished with value: 0.1765092805141674 and parameters: {'n_estimators': 143, 'max_depth': 15, 'min_samples_split': 18}. Best is trial 6 with value: 0.17335812221368235.\n",
      "[I 2025-05-06 14:28:55,097] Trial 19 finished with value: 0.1732968801826147 and parameters: {'n_estimators': 100, 'max_depth': 7, 'min_samples_split': 9}. Best is trial 19 with value: 0.1732968801826147.\n",
      "[I 2025-05-06 14:28:55,098] A new study created in memory with name: no-name-7ca17782-fa6b-40ee-8d28-32629b347330\n"
     ]
    },
    {
     "name": "stdout",
     "output_type": "stream",
     "text": [
      "Best hyperparameters for window_size=30: {'n_estimators': 100, 'max_depth': 7, 'min_samples_split': 9}, with avg Brier = 0.1733\n",
      "\n",
      "Tuning for window_size = 35\n"
     ]
    },
    {
     "name": "stderr",
     "output_type": "stream",
     "text": [
      "[I 2025-05-06 14:29:01,201] Trial 0 finished with value: 0.17899302246258353 and parameters: {'n_estimators': 83, 'max_depth': 16, 'min_samples_split': 6}. Best is trial 0 with value: 0.17899302246258353.\n",
      "[I 2025-05-06 14:29:20,841] Trial 1 finished with value: 0.1814845290161585 and parameters: {'n_estimators': 239, 'max_depth': 19, 'min_samples_split': 3}. Best is trial 0 with value: 0.17899302246258353.\n",
      "[I 2025-05-06 14:29:27,680] Trial 2 finished with value: 0.1770614564108753 and parameters: {'n_estimators': 91, 'max_depth': 14, 'min_samples_split': 10}. Best is trial 2 with value: 0.1770614564108753.\n",
      "[I 2025-05-06 14:29:35,290] Trial 3 finished with value: 0.1732429681206011 and parameters: {'n_estimators': 136, 'max_depth': 8, 'min_samples_split': 9}. Best is trial 3 with value: 0.1732429681206011.\n",
      "[I 2025-05-06 14:29:50,934] Trial 4 finished with value: 0.1742504764071074 and parameters: {'n_estimators': 239, 'max_depth': 12, 'min_samples_split': 19}. Best is trial 3 with value: 0.1732429681206011.\n",
      "[I 2025-05-06 14:30:02,209] Trial 5 finished with value: 0.17757003834014734 and parameters: {'n_estimators': 156, 'max_depth': 16, 'min_samples_split': 10}. Best is trial 3 with value: 0.1732429681206011.\n",
      "[I 2025-05-06 14:30:11,258] Trial 6 finished with value: 0.17831862241208474 and parameters: {'n_estimators': 116, 'max_depth': 15, 'min_samples_split': 7}. Best is trial 3 with value: 0.1732429681206011.\n",
      "[I 2025-05-06 14:30:18,774] Trial 7 finished with value: 0.1782709033035781 and parameters: {'n_estimators': 101, 'max_depth': 19, 'min_samples_split': 14}. Best is trial 3 with value: 0.1732429681206011.\n",
      "[I 2025-05-06 14:30:32,305] Trial 8 finished with value: 0.17485604818403946 and parameters: {'n_estimators': 206, 'max_depth': 12, 'min_samples_split': 12}. Best is trial 3 with value: 0.1732429681206011.\n",
      "[I 2025-05-06 14:30:36,414] Trial 9 finished with value: 0.17499805381214983 and parameters: {'n_estimators': 64, 'max_depth': 11, 'min_samples_split': 20}. Best is trial 3 with value: 0.1732429681206011.\n",
      "[I 2025-05-06 14:30:43,555] Trial 10 finished with value: 0.1734456036327363 and parameters: {'n_estimators': 156, 'max_depth': 6, 'min_samples_split': 15}. Best is trial 3 with value: 0.1732429681206011.\n",
      "[I 2025-05-06 14:30:50,765] Trial 11 finished with value: 0.17344956619236343 and parameters: {'n_estimators': 159, 'max_depth': 6, 'min_samples_split': 15}. Best is trial 3 with value: 0.1732429681206011.\n",
      "[I 2025-05-06 14:31:02,660] Trial 12 finished with value: 0.1746124113078956 and parameters: {'n_estimators': 283, 'max_depth': 5, 'min_samples_split': 17}. Best is trial 3 with value: 0.1732429681206011.\n",
      "[I 2025-05-06 14:31:10,221] Trial 13 finished with value: 0.1738926466026209 and parameters: {'n_estimators': 135, 'max_depth': 9, 'min_samples_split': 7}. Best is trial 3 with value: 0.1732429681206011.\n",
      "[I 2025-05-06 14:31:20,250] Trial 14 finished with value: 0.17313994151186143 and parameters: {'n_estimators': 195, 'max_depth': 8, 'min_samples_split': 13}. Best is trial 14 with value: 0.17313994151186143.\n",
      "[I 2025-05-06 14:31:31,250] Trial 15 finished with value: 0.17357816455785208 and parameters: {'n_estimators': 199, 'max_depth': 9, 'min_samples_split': 12}. Best is trial 14 with value: 0.17313994151186143.\n",
      "[I 2025-05-06 14:31:42,307] Trial 16 finished with value: 0.1732978724755134 and parameters: {'n_estimators': 196, 'max_depth': 8, 'min_samples_split': 2}. Best is trial 14 with value: 0.17313994151186143.\n",
      "[I 2025-05-06 14:31:54,442] Trial 17 finished with value: 0.17315058753251603 and parameters: {'n_estimators': 234, 'max_depth': 8, 'min_samples_split': 9}. Best is trial 14 with value: 0.17313994151186143.\n",
      "[I 2025-05-06 14:32:13,337] Trial 18 finished with value: 0.17368239525611834 and parameters: {'n_estimators': 287, 'max_depth': 10, 'min_samples_split': 13}. Best is trial 14 with value: 0.17313994151186143.\n",
      "[I 2025-05-06 14:32:24,958] Trial 19 finished with value: 0.17307712206207787 and parameters: {'n_estimators': 248, 'max_depth': 7, 'min_samples_split': 4}. Best is trial 19 with value: 0.17307712206207787.\n",
      "[I 2025-05-06 14:32:24,960] A new study created in memory with name: no-name-e901ce30-3e16-4503-8880-7aa05f1a10a3\n"
     ]
    },
    {
     "name": "stdout",
     "output_type": "stream",
     "text": [
      "Best hyperparameters for window_size=35: {'n_estimators': 248, 'max_depth': 7, 'min_samples_split': 4}, with avg Brier = 0.1731\n",
      "\n",
      "Tuning for window_size = 39\n"
     ]
    },
    {
     "name": "stderr",
     "output_type": "stream",
     "text": [
      "[I 2025-05-06 14:32:46,285] Trial 0 finished with value: 0.17633751545856746 and parameters: {'n_estimators': 283, 'max_depth': 15, 'min_samples_split': 12}. Best is trial 0 with value: 0.17633751545856746.\n",
      "[I 2025-05-06 14:32:51,892] Trial 1 finished with value: 0.1742626213073518 and parameters: {'n_estimators': 88, 'max_depth': 13, 'min_samples_split': 18}. Best is trial 1 with value: 0.1742626213073518.\n",
      "[I 2025-05-06 14:32:57,746] Trial 2 finished with value: 0.17769540320994393 and parameters: {'n_estimators': 77, 'max_depth': 20, 'min_samples_split': 14}. Best is trial 1 with value: 0.1742626213073518.\n",
      "[I 2025-05-06 14:33:02,271] Trial 3 finished with value: 0.17452791880029905 and parameters: {'n_estimators': 60, 'max_depth': 12, 'min_samples_split': 18}. Best is trial 1 with value: 0.1742626213073518.\n",
      "[I 2025-05-06 14:33:08,373] Trial 4 finished with value: 0.17337486248784734 and parameters: {'n_estimators': 123, 'max_depth': 6, 'min_samples_split': 14}. Best is trial 4 with value: 0.17337486248784734.\n",
      "[I 2025-05-06 14:33:11,666] Trial 5 finished with value: 0.17411483124009236 and parameters: {'n_estimators': 62, 'max_depth': 7, 'min_samples_split': 14}. Best is trial 4 with value: 0.17337486248784734.\n",
      "[I 2025-05-06 14:33:27,336] Trial 6 finished with value: 0.17335763694873604 and parameters: {'n_estimators': 295, 'max_depth': 8, 'min_samples_split': 4}. Best is trial 6 with value: 0.17335763694873604.\n",
      "[I 2025-05-06 14:33:39,001] Trial 7 finished with value: 0.17284376346798846 and parameters: {'n_estimators': 230, 'max_depth': 7, 'min_samples_split': 11}. Best is trial 7 with value: 0.17284376346798846.\n",
      "[I 2025-05-06 14:33:48,544] Trial 8 finished with value: 0.17359507700789112 and parameters: {'n_estimators': 224, 'max_depth': 6, 'min_samples_split': 19}. Best is trial 7 with value: 0.17284376346798846.\n",
      "[I 2025-05-06 14:33:57,947] Trial 9 finished with value: 0.1741674836735997 and parameters: {'n_estimators': 142, 'max_depth': 11, 'min_samples_split': 13}. Best is trial 7 with value: 0.17284376346798846.\n",
      "[I 2025-05-06 14:34:10,746] Trial 10 finished with value: 0.1737209082152627 and parameters: {'n_estimators': 210, 'max_depth': 9, 'min_samples_split': 7}. Best is trial 7 with value: 0.17284376346798846.\n",
      "[I 2025-05-06 14:34:27,102] Trial 11 finished with value: 0.17348301654799944 and parameters: {'n_estimators': 296, 'max_depth': 9, 'min_samples_split': 2}. Best is trial 7 with value: 0.17284376346798846.\n",
      "[I 2025-05-06 14:34:36,611] Trial 12 finished with value: 0.17450925911299248 and parameters: {'n_estimators': 248, 'max_depth': 5, 'min_samples_split': 7}. Best is trial 7 with value: 0.17284376346798846.\n",
      "[I 2025-05-06 14:34:50,941] Trial 13 finished with value: 0.17342794361899838 and parameters: {'n_estimators': 260, 'max_depth': 9, 'min_samples_split': 2}. Best is trial 7 with value: 0.17284376346798846.\n",
      "[I 2025-05-06 14:35:06,198] Trial 14 finished with value: 0.17804163053324312 and parameters: {'n_estimators': 192, 'max_depth': 17, 'min_samples_split': 8}. Best is trial 7 with value: 0.17284376346798846.\n",
      "[I 2025-05-06 14:35:19,625] Trial 15 finished with value: 0.17344134785139675 and parameters: {'n_estimators': 249, 'max_depth': 9, 'min_samples_split': 9}. Best is trial 7 with value: 0.17284376346798846.\n",
      "[I 2025-05-06 14:35:27,735] Trial 16 finished with value: 0.17326430946884247 and parameters: {'n_estimators': 153, 'max_depth': 7, 'min_samples_split': 4}. Best is trial 7 with value: 0.17284376346798846.\n",
      "[I 2025-05-06 14:35:34,342] Trial 17 finished with value: 0.17460047064901738 and parameters: {'n_estimators': 153, 'max_depth': 5, 'min_samples_split': 5}. Best is trial 7 with value: 0.17284376346798846.\n",
      "[I 2025-05-06 14:35:45,076] Trial 18 finished with value: 0.17451202024592288 and parameters: {'n_estimators': 177, 'max_depth': 11, 'min_samples_split': 10}. Best is trial 7 with value: 0.17284376346798846.\n",
      "[I 2025-05-06 14:35:50,243] Trial 19 finished with value: 0.17329799475694604 and parameters: {'n_estimators': 112, 'max_depth': 7, 'min_samples_split': 16}. Best is trial 7 with value: 0.17284376346798846.\n"
     ]
    },
    {
     "name": "stdout",
     "output_type": "stream",
     "text": [
      "Best hyperparameters for window_size=39: {'n_estimators': 230, 'max_depth': 7, 'min_samples_split': 11}, with avg Brier = 0.1728\n",
      "\n",
      "Grid search results:\n",
      "   window_size  avg_brier                                        best_params\n",
      "0           10   0.174559  {'n_estimators': 251, 'max_depth': 7, 'min_sam...\n",
      "1           15   0.173484  {'n_estimators': 60, 'max_depth': 8, 'min_samp...\n",
      "2           20   0.173542  {'n_estimators': 251, 'max_depth': 7, 'min_sam...\n",
      "3           25   0.173610  {'n_estimators': 148, 'max_depth': 7, 'min_sam...\n",
      "4           30   0.173297  {'n_estimators': 100, 'max_depth': 7, 'min_sam...\n",
      "5           35   0.173077  {'n_estimators': 248, 'max_depth': 7, 'min_sam...\n",
      "6           39   0.172844  {'n_estimators': 230, 'max_depth': 7, 'min_sam...\n",
      "\n",
      "Best overall: window_size = 39, avg Brier = 0.1728, best_params = {'n_estimators': 230, 'max_depth': 7, 'min_samples_split': 11}\n"
     ]
    }
   ],
   "source": [
    "def objective(trial, X, y, start_season, window_size):\n",
    "    \"\"\"Optuna objective function for hyperparameter optimization.\"\"\"\n",
    "    # Define hyperparameter search space\n",
    "    n_estimators = trial.suggest_int(\"n_estimators\", 50, 300)\n",
    "    max_depth = trial.suggest_int(\"max_depth\", 5, 20)\n",
    "    min_samples_split = trial.suggest_int(\"min_samples_split\", 2, 20)\n",
    "    \n",
    "    rf_params = dict(\n",
    "        n_estimators=n_estimators,\n",
    "        max_depth=max_depth,\n",
    "        min_samples_split=min_samples_split,\n",
    "        random_state=42,\n",
    "        class_weight='balanced'\n",
    "    )\n",
    "    \n",
    "    # Use the rolling_window_cv from pre_processing.py\n",
    "    metrics_df = rolling_window_cv(\n",
    "        X, y, start_season=start_season, window_size=window_size,\n",
    "        model_fn=rf_model_fn, model_params=rf_params, verbose=False\n",
    "    )\n",
    "    if metrics_df.empty:\n",
    "        return float('inf')\n",
    "    return metrics_df['brier'].mean()\n",
    "\n",
    "def tune_hyperparameters_for_window_size(X, y, start_season, window_size, n_trials=20):\n",
    "    \"\"\"Tunes hyperparameters for a specific window size.\"\"\"\n",
    "    study = optuna.create_study(direction=\"minimize\")\n",
    "    study.optimize(lambda trial: objective(trial, X, y, start_season, window_size), n_trials=n_trials)\n",
    "    best_params = study.best_trial.params\n",
    "    best_value = study.best_trial.value\n",
    "    print(f\"Best hyperparameters for window_size={window_size}: {best_params}, with avg Brier = {best_value:.4f}\")\n",
    "    return best_params, best_value\n",
    "\n",
    "def grid_search_window_size_and_hyperparams(X, y, start_season, window_sizes, n_trials=20):\n",
    "    \"\"\"Performs grid search over window sizes and tunes hyperparameters for each.\"\"\"\n",
    "    records = []\n",
    "    best_overall = None\n",
    "    best_window = None\n",
    "    best_params_overall = None\n",
    "    \n",
    "    for w in window_sizes:\n",
    "        print(f\"\\nTuning for window_size = {w}\")\n",
    "        best_params, avg_brier = tune_hyperparameters_for_window_size(X, y, start_season, window_size=w, n_trials=n_trials)\n",
    "        records.append({'window_size': w, 'avg_brier': avg_brier, 'best_params': best_params})\n",
    "        if best_overall is None or avg_brier <= best_overall:\n",
    "            best_overall = avg_brier\n",
    "            best_window = w\n",
    "            best_params_overall = best_params\n",
    "    \n",
    "    results_df = pd.DataFrame(records)\n",
    "    print(\"\\nGrid search results:\")\n",
    "    print(results_df)\n",
    "    print(f\"\\nBest overall: window_size = {best_window}, avg Brier = {best_overall:.4f}, best_params = {best_params_overall}\")\n",
    "    return best_window, best_params_overall, results_df\n",
    "\n",
    "# Use all available seasons for demonstration\n",
    "demo_seasons = list(range(X['Season'].min(), X['Season'].max()+1))\n",
    "\n",
    "# Set the selected features for the input data\n",
    "X = X[feats_with_season]\n",
    "\n",
    "# Determine maximum possible window size\n",
    "max_window_size = len(demo_seasons)\n",
    "\n",
    "# Create possible window sizes starting from 10, in steps of 5\n",
    "possible_window_sizes = list(range(10, max_window_size, 5))\n",
    "\n",
    "# Ensure the max_window_size is included if it's not already\n",
    "if max_window_size not in possible_window_sizes:\n",
    "    possible_window_sizes.append(max_window_size)\n",
    "\n",
    "best_window, best_params, grid_results = grid_search_window_size_and_hyperparams(\n",
    "    X, y, start_season=2010, window_sizes=possible_window_sizes, n_trials=20)"
   ]
  },
  {
   "cell_type": "markdown",
   "metadata": {},
   "source": [
    "## 6. Model Evaluation with Optimal Parameters"
   ]
  },
  {
   "cell_type": "code",
   "execution_count": 12,
   "metadata": {
    "execution": {
     "iopub.execute_input": "2025-05-04T15:55:18.126186Z",
     "iopub.status.busy": "2025-05-04T15:55:18.121311Z",
     "iopub.status.idle": "2025-05-04T15:55:22.883093Z",
     "shell.execute_reply": "2025-05-04T15:55:22.881920Z",
     "shell.execute_reply.started": "2025-05-04T15:55:18.126096Z"
    },
    "trusted": true
   },
   "outputs": [
    {
     "name": "stdout",
     "output_type": "stream",
     "text": [
      "\n",
      "Final evaluation with best window size = 39 and best hyperparameters = {'n_estimators': 230, 'max_depth': 7, 'min_samples_split': 11}\n",
      "Season 2011 – Accuracy: 0.681, Log Loss: 0.516, Brier: 0.178\n",
      "Season 2012 – Accuracy: 0.781, Log Loss: 0.509, Brier: 0.166\n",
      "Season 2013 – Accuracy: 0.715, Log Loss: 0.538, Brier: 0.184\n",
      "Season 2014 – Accuracy: 0.727, Log Loss: 0.514, Brier: 0.176\n",
      "Season 2015 – Accuracy: 0.788, Log Loss: 0.463, Brier: 0.149\n",
      "Season 2016 – Accuracy: 0.719, Log Loss: 0.535, Brier: 0.181\n",
      "Season 2017 – Accuracy: 0.788, Log Loss: 0.485, Brier: 0.162\n",
      "Season 2018 – Accuracy: 0.692, Log Loss: 0.558, Brier: 0.189\n",
      "Season 2019 – Accuracy: 0.738, Log Loss: 0.462, Brier: 0.155\n",
      "Season 2021 – Accuracy: 0.717, Log Loss: 0.562, Brier: 0.191\n",
      "\n",
      "Overall average metrics: Accuracy: 0.735, Log Loss: 0.514, Brier: 0.173\n"
     ]
    }
   ],
   "source": [
    "print(f\"\\nFinal evaluation with best window size = {best_window} and best hyperparameters = {best_params}\")\n",
    "final_metrics_df = rolling_window_cv(\n",
    "    X, y, start_season=2010, window_size=best_window,\n",
    "    model_fn=rf_model_fn, model_params=best_params, verbose=True\n",
    ")"
   ]
  },
  {
   "cell_type": "markdown",
   "metadata": {},
   "source": [
    "## 7. Feature Importance Analysis"
   ]
  },
  {
   "cell_type": "code",
   "execution_count": 13,
   "metadata": {
    "execution": {
     "iopub.execute_input": "2025-05-04T15:56:16.757639Z",
     "iopub.status.busy": "2025-05-04T15:56:16.757264Z",
     "iopub.status.idle": "2025-05-04T15:56:21.988877Z",
     "shell.execute_reply": "2025-05-04T15:56:21.987925Z",
     "shell.execute_reply.started": "2025-05-04T15:56:16.757616Z"
    },
    "trusted": true
   },
   "outputs": [
    {
     "name": "stdout",
     "output_type": "stream",
     "text": [
      "\n",
      "Final evaluation using all available training data:\n",
      "Season 2011 – Accuracy: 0.692, Log Loss: 0.511, Brier: 0.176\n",
      "Season 2012 – Accuracy: 0.765, Log Loss: 0.509, Brier: 0.167\n",
      "Season 2013 – Accuracy: 0.712, Log Loss: 0.537, Brier: 0.184\n",
      "Season 2014 – Accuracy: 0.735, Log Loss: 0.514, Brier: 0.176\n",
      "Season 2015 – Accuracy: 0.781, Log Loss: 0.464, Brier: 0.150\n",
      "Season 2016 – Accuracy: 0.731, Log Loss: 0.533, Brier: 0.180\n",
      "Season 2017 – Accuracy: 0.792, Log Loss: 0.490, Brier: 0.164\n",
      "Season 2018 – Accuracy: 0.692, Log Loss: 0.557, Brier: 0.188\n",
      "Season 2019 – Accuracy: 0.738, Log Loss: 0.460, Brier: 0.155\n",
      "Season 2021 – Accuracy: 0.705, Log Loss: 0.570, Brier: 0.194\n",
      "\n",
      "Overall average metrics: Accuracy: 0.734, Log Loss: 0.515, Brier: 0.173\n",
      "\n",
      "Top 5 most important features:\n",
      "         feature  importance\n",
      "0       SeedDiff    0.511106\n",
      "1  AvgMarginDiff    0.271625\n",
      "2     WinPctDiff    0.135290\n",
      "4     Team1Games    0.042462\n",
      "3     Team2Games    0.039517\n"
     ]
    },
    {
     "data": {
      "image/png": "[encoded data removed]",
      "text/plain": [
       "<Figure size 1000x600 with 1 Axes>"
      ]
     },
     "metadata": {},
     "output_type": "display_data"
    }
   ],
   "source": [
    "print(\"\\nFinal evaluation using all available training data:\")\n",
    "final_metrics_all_df = rolling_window_cv(\n",
    "    X, y, start_season=2010, window_size=None,\n",
    "    model_fn=rf_model_fn, model_params=best_params, verbose=True\n",
    ")\n",
    "\n",
    "# Train final model on all data from seasons >= start_season\n",
    "train_mask = X['Season'] >= 2011\n",
    "X_final = X[train_mask].drop(columns=['Season'])\n",
    "y_final = y[train_mask]\n",
    "\n",
    "# Scale features\n",
    "scaler = StandardScaler()\n",
    "X_final_scaled = scaler.fit_transform(X_final)\n",
    "\n",
    "# Train final model\n",
    "final_model = RandomForestClassifier(**best_params)\n",
    "final_model.fit(X_final_scaled, y_final)\n",
    "\n",
    "# Compute and visualize feature importances\n",
    "feature_importance = pd.DataFrame({\n",
    "    'feature': X_final.columns,\n",
    "    'importance': final_model.feature_importances_\n",
    "}).sort_values('importance', ascending=False)\n",
    "\n",
    "print(\"\\nTop 5 most important features:\")\n",
    "print(feature_importance.head(5))\n",
    "\n",
    "plt.figure(figsize=(10, 6))\n",
    "sns.barplot(x='importance', y='feature', data=feature_importance)\n",
    "plt.title('Feature Importance (Final Random Forest Model)')\n",
    "plt.tight_layout()\n",
    "plt.show()"
   ]
  },
  {
   "cell_type": "markdown",
   "metadata": {},
   "source": [
    "## 8. Generate Tournament Predictions"
   ]
  },
  {
   "cell_type": "code",
   "execution_count": 14,
   "metadata": {
    "execution": {
     "iopub.execute_input": "2025-05-03T19:22:29.852120Z",
     "iopub.status.busy": "2025-05-03T19:22:29.851812Z",
     "iopub.status.idle": "2025-05-03T19:22:30.072160Z",
     "shell.execute_reply": "2025-05-03T19:22:30.070928Z",
     "shell.execute_reply.started": "2025-05-03T19:22:29.852095Z"
    },
    "trusted": true
   },
   "outputs": [
    {
     "name": "stdout",
     "output_type": "stream",
     "text": [
      "2022: trained on 7532 rows → 4556 preds  |  saved → /home/benc/projects/ML-final/predictions/predictions_2022_rf.csv\n",
      "2023: trained on 7800 rows → 4556 preds  |  saved → /home/benc/projects/ML-final/predictions/predictions_2023_rf.csv\n",
      "2024: trained on 8068 rows → 4556 preds  |  saved → /home/benc/projects/ML-final/predictions/predictions_2024_rf.csv\n"
     ]
    }
   ],
   "source": [
    "# ------------------------------------------------------------------\n",
    "# Set up output directory for predictions\n",
    "# ------------------------------------------------------------------\n",
    "if os.path.exists('/kaggle/input'):\n",
    "    preds_dir = Path('/kaggle/working/predictions')\n",
    "else:\n",
    "    project_root = Path(os.getcwd()).parent.parent\n",
    "    preds_dir = project_root / \"predictions\"\n",
    "\n",
    "# Make sure the directory exists\n",
    "preds_dir.mkdir(exist_ok=True, parents=True)\n",
    "\n",
    "# ------------------------------------------------------------------\n",
    "# Set model parameters from earlier optimization\n",
    "# ------------------------------------------------------------------\n",
    "rf_features = selected  # Final feature set (no \"Season\")\n",
    "base_params = best_params.copy()  # Best Optuna hyper-params\n",
    "window_size = best_window  # Best look-back window (may be None)\n",
    "\n",
    "# ------------------------------------------------------------------\n",
    "# Generate predictions for each tournament season\n",
    "# ------------------------------------------------------------------\n",
    "for season in (2022, 2023, 2024):\n",
    "    # Train on the appropriate look-back window\n",
    "    if window_size is None:\n",
    "        train_mask = X[\"Season\"] < season\n",
    "    else:\n",
    "        train_mask = (X[\"Season\"] < season) & (X[\"Season\"] >= season - window_size - 1)\n",
    "\n",
    "    X_train_raw = X.loc[train_mask, rf_features]\n",
    "    y_train = y.loc[train_mask]\n",
    "\n",
    "    # Scale features\n",
    "    scaler = StandardScaler().fit(X_train_raw)\n",
    "    X_train = scaler.transform(X_train_raw)\n",
    "\n",
    "    # Train model\n",
    "    clf = RandomForestClassifier(**base_params).fit(X_train, y_train)\n",
    "\n",
    "    # Generate predictions for both men's and women's tournaments\n",
    "    all_dfs = []\n",
    "    for gender in (\"M\", \"W\"):\n",
    "        X_pred_raw, game_ids = generate_matchup_matrix(\"rf\", season, gender=gender)\n",
    "        X_pred_scaled = scaler.transform(X_pred_raw[rf_features])\n",
    "\n",
    "        y_hat = clf.predict_proba(X_pred_scaled)[:, 1]\n",
    "        all_dfs.append(pd.DataFrame({\n",
    "            \"Season\": season,\n",
    "            \"GameID\": game_ids,\n",
    "            \"y_hat_proba\": y_hat,\n",
    "        }))\n",
    "\n",
    "    # Save predictions to file\n",
    "    df_out = pd.concat(all_dfs, ignore_index=True)\n",
    "    out_f = preds_dir / f\"predictions_{season}_rf.csv\"\n",
    "    df_out.to_csv(out_f, index=False)\n",
    "\n",
    "    n_train = train_mask.sum()\n",
    "    print(f\"{season}: trained on {n_train:>4} rows → {len(df_out):>4} preds  |  saved → {out_f}\")"
   ]
  }
 ],
 "metadata": {
  "kaggle": {
   "accelerator": "none",
   "dataSources": [
    {
     "databundleVersionId": 8023814,
     "sourceId": 70068,
     "sourceType": "competition"
    },
    {
     "datasetId": 7013673,
     "sourceId": 11672619,
     "sourceType": "datasetVersion"
    }
   ],
   "dockerImageVersionId": 31012,
   "isGpuEnabled": false,
   "isInternetEnabled": true,
   "language": "python",
   "sourceType": "notebook"
  },
  "kernelspec": {
   "display_name": "Python 3",
   "language": "python",
   "name": "python3"
  },
  "language_info": {
   "codemirror_mode": {
    "name": "ipython",
    "version": 3
   },
   "file_extension": ".py",
   "mimetype": "text/x-python",
   "name": "python",
   "nbconvert_exporter": "python",
   "pygments_lexer": "ipython3",
   "version": "3.10.12"
  }
 },
 "nbformat": 4,
 "nbformat_minor": 4
}
